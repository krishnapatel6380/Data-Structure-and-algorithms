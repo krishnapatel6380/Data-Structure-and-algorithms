{
 "cells": [
  {
   "cell_type": "markdown",
   "id": "0c2b3ba3",
   "metadata": {},
   "source": [
    "### Exercise 1\n",
    "Based on the lecture notes, create a singly linked list in Python called `MyList`. Add three nodes to an instance of `MyList` with values 5, 7, and 10. Then remove the last node (with value 10) from the list. After these operations, print `MyList`."
   ]
  },
  {
   "cell_type": "code",
   "execution_count": 1,
   "id": "db086b3a-201f-4193-bd78-d08b816219e6",
   "metadata": {},
   "outputs": [
    {
     "name": "stdout",
     "output_type": "stream",
     "text": [
      "5 -> 7\n"
     ]
    }
   ],
   "source": [
    "class Node:\n",
    "    def __init__(self, value):\n",
    "        self.value = value\n",
    "        self.next = None\n",
    "\n",
    "class MyList:\n",
    "    def __init__(self):\n",
    "        self.head = None\n",
    "    \n",
    "    def add(self, value):\n",
    "        new_node = Node(value)\n",
    "        if not self.head:\n",
    "            self.head = new_node\n",
    "        else:\n",
    "            current = self.head\n",
    "            while current.next:\n",
    "                current = current.next\n",
    "            current.next = new_node\n",
    "    \n",
    "    def remove_last(self):\n",
    "        if not self.head:\n",
    "            return\n",
    "        if not self.head.next:\n",
    "            self.head = None\n",
    "            return\n",
    "        current = self.head\n",
    "        while current.next.next:\n",
    "            current = current.next\n",
    "        current.next = None\n",
    "    \n",
    "    def print_list(self):\n",
    "        current = self.head\n",
    "        while current:\n",
    "            print(current.value, end=\" -> \" if current.next else \"\\n\")\n",
    "            current = current.next\n",
    "\n",
    "# Example usage:\n",
    "my_list = MyList()\n",
    "my_list.add(5)\n",
    "my_list.add(7)\n",
    "my_list.add(10)\n",
    "my_list.remove_last()\n",
    "my_list.print_list()\n"
   ]
  },
  {
   "cell_type": "markdown",
   "id": "f3ecc821-71de-435f-bbec-85fe77d36f60",
   "metadata": {},
   "source": [
    "### Exercise 2\n",
    "Based on the lecture notes, implement a method called `DLL_len` that returns the length of a doubly linked list. To test its functionality, follow these steps:\n",
    "\n",
    "* Create a doubly linked list class in Python called `DoublyLinkedList`.\n",
    "* Create an instance of `DoublyLinkedList`.\n",
    "* Add five nodes to this instance with values 5, 7, 13, 15, and 10.\n",
    "* Invoke the `DLL_len` method on the instance you just created.\n",
    "\n",
    "If your method works correctly, it should return 5."
   ]
  },
  {
   "cell_type": "code",
   "execution_count": 2,
   "id": "82a8bdf4-f636-4b78-a1b2-016e09e7c752",
   "metadata": {},
   "outputs": [],
   "source": [
    "class Node:\n",
    "    def __init__(self, value):\n",
    "        self.value = value\n",
    "        self.next = None\n",
    "        self.prev = None\n",
    "\n",
    "class DoublyLinkedList:\n",
    "    def __init__(self):\n",
    "        self.head = None\n",
    "    \n",
    "    def add(self, value):\n",
    "        new_node = Node(value)\n",
    "        if not self.head:\n",
    "            self.head = new_node\n",
    "        else:\n",
    "            current = self.head\n",
    "            while current.next:\n",
    "                current = current.next\n",
    "            current.next = new_node\n",
    "            new_node.prev = current\n",
    "\n",
    "    def DLL_len(self):\n",
    "        count = 0\n",
    "        current = self.head\n",
    "        while current:\n",
    "            count += 1\n",
    "            current = current.next\n",
    "        return count\n",
    "\n",
    "\n"
   ]
  },
  {
   "cell_type": "code",
   "execution_count": null,
   "id": "95be37e6-93d5-4d27-9bdb-fc5ec1fa4719",
   "metadata": {},
   "outputs": [],
   "source": []
  }
 ],
 "metadata": {
  "kernelspec": {
   "display_name": "Python 3 (ipykernel)",
   "language": "python",
   "name": "python3"
  },
  "language_info": {
   "codemirror_mode": {
    "name": "ipython",
    "version": 3
   },
   "file_extension": ".py",
   "mimetype": "text/x-python",
   "name": "python",
   "nbconvert_exporter": "python",
   "pygments_lexer": "ipython3",
   "version": "3.12.5"
  }
 },
 "nbformat": 4,
 "nbformat_minor": 5
}
