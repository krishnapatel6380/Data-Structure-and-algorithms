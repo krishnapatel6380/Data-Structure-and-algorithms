{
 "cells": [
  {
   "cell_type": "markdown",
   "id": "1d63bc12",
   "metadata": {},
   "source": [
    "#### 1. Determine the time complexity of the following algorithm and provide a detailed explanation of your analysis"
   ]
  },
  {
   "cell_type": "code",
   "execution_count": null,
   "id": "d286c5b5",
   "metadata": {},
   "outputs": [],
   "source": [
    "def sum_elements(lst):\n",
    "    total = 0\n",
    "    for num in lst:\n",
    "        total += num\n",
    "    return total\n",
    "\n",
    "# Example: You can use \"sum_elements\" to sum the elements of lst below:\n",
    "lst = [1, 2, 3, 4, 5]\n",
    "print(sum_elements(lst))  # Output: 15"
   ]
  },
  {
   "cell_type": "markdown",
   "id": "da009449",
   "metadata": {},
   "source": [
    "#### 2. Determine the time complexity of the following algorithm and provide a detailed explanation of your analysis"
   ]
  },
  {
   "cell_type": "code",
   "execution_count": null,
   "id": "76ffcc96",
   "metadata": {},
   "outputs": [],
   "source": [
    "def bubble_sort(lst):\n",
    "    n = len(lst)\n",
    "    for i in range(n):\n",
    "        for j in range(0, n-i-1):\n",
    "            if lst[j] > lst[j+1]:\n",
    "                lst[j], lst[j+1] = lst[j+1], lst[j]\n",
    "    return lst\n",
    "\n",
    "# Example: You can use \"bubble_sort\" to sort the elements of a list:\n",
    "lst = [5, 1, 4, 2, 8]\n",
    "print(bubble_sort(lst))  # Output: [1, 2, 4, 5, 8]"
   ]
  }
 ],
 "metadata": {
  "kernelspec": {
   "display_name": "Python 3 (ipykernel)",
   "language": "python",
   "name": "python3"
  },
  "language_info": {
   "codemirror_mode": {
    "name": "ipython",
    "version": 3
   },
   "file_extension": ".py",
   "mimetype": "text/x-python",
   "name": "python",
   "nbconvert_exporter": "python",
   "pygments_lexer": "ipython3",
   "version": "3.11.4"
  }
 },
 "nbformat": 4,
 "nbformat_minor": 5
}
