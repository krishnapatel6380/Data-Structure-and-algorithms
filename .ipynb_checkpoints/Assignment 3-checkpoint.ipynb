{
 "cells": [
  {
   "cell_type": "markdown",
   "id": "0c2b3ba3",
   "metadata": {},
   "source": [
    "### Exercise 1\n",
    "Based on the lecture notes, create a singly linked list in Python called `MyList`. Add three nodes to an instance of `MyList` with values 5, 7, and 10. Then remove the last node (with value 10) from the list. After these operations, print `MyList`.\n",
    "\n",
    "### Exercise 2\n",
    "Based on the lecture notes, implement a method called `DLL_len` that returns the length of a doubly linked list. To test its functionality, follow these steps:\n",
    "\n",
    "* Create a doubly linked list class in Python called `DoublyLinkedList`.\n",
    "* Create an instance of `DoublyLinkedList`.\n",
    "* Add five nodes to this instance with values 5, 7, 13, 15, and 10.\n",
    "* Invoke the `DLL_len` method on the instance you just created.\n",
    "\n",
    "If your method works correctly, it should return 5."
   ]
  }
 ],
 "metadata": {
  "kernelspec": {
   "display_name": "Python 3 (ipykernel)",
   "language": "python",
   "name": "python3"
  },
  "language_info": {
   "codemirror_mode": {
    "name": "ipython",
    "version": 3
   },
   "file_extension": ".py",
   "mimetype": "text/x-python",
   "name": "python",
   "nbconvert_exporter": "python",
   "pygments_lexer": "ipython3",
   "version": "3.11.4"
  }
 },
 "nbformat": 4,
 "nbformat_minor": 5
}
