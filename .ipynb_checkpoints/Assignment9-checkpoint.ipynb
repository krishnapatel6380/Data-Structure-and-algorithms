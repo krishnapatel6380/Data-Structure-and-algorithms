{
 "cells": [
  {
   "cell_type": "markdown",
   "id": "a62c5393",
   "metadata": {},
   "source": [
    "#### Question 2\n",
    "\n",
    "Given the information you have received in the course about the Merge sort algorithm, implement a function that uses it. The function needs only to accept the array to be sorted as parameter. The function returns the sorted array. The original array is left untouched.\n",
    "\n",
    "Given an array like: [6, 8, 5, 1, 2], the sorted array would be: [1, 2, 5, 6, 8]"
   ]
  },
  {
   "cell_type": "code",
   "execution_count": null,
   "id": "79f83b7b",
   "metadata": {},
   "outputs": [],
   "source": [
    "def merge_sort(array):\n",
    "    \"\"\"\n",
    "    Sort the array using the Merge sort algorithm\n",
    "    \n",
    "    Parameters:\n",
    "    - array: The array to be sorted\n",
    "    \n",
    "    Returns: The sorted array.\n",
    "    \"\"\"\n",
    "    pass"
   ]
  }
 ],
 "metadata": {
  "kernelspec": {
   "display_name": "Python 3 (ipykernel)",
   "language": "python",
   "name": "python3"
  },
  "language_info": {
   "codemirror_mode": {
    "name": "ipython",
    "version": 3
   },
   "file_extension": ".py",
   "mimetype": "text/x-python",
   "name": "python",
   "nbconvert_exporter": "python",
   "pygments_lexer": "ipython3",
   "version": "3.11.4"
  }
 },
 "nbformat": 4,
 "nbformat_minor": 5
}
