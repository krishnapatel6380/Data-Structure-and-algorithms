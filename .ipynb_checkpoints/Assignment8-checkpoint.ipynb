{
 "cells": [
  {
   "cell_type": "markdown",
   "id": "d7344aff",
   "metadata": {},
   "source": [
    "#### Question 1\n",
    "Given the information you have received in the course about the Insertion sort algorithm, implement a function that uses it. The function needs only to accept the array to be sorted as parameter. The function returns nothing. The array is sorted in-place.\n",
    "\n",
    "For example given an array like: [6, 8, 5, 1, 2], the sorted array should be: [1, 2, 5, 6, 8]"
   ]
  },
  {
   "cell_type": "code",
   "execution_count": 4,
   "id": "66b14e04",
   "metadata": {},
   "outputs": [
    {
     "name": "stdout",
     "output_type": "stream",
     "text": [
      "[1, 2, 4, 5, 6]\n"
     ]
    }
   ],
   "source": [
    "def insertion_sort(array):\n",
    "\n",
    "    for i in range(1, len(array)):  # Start from the second element\n",
    "        key = array[i]  # The element to be positioned\n",
    "        j = i - 1\n",
    "        # Move elements of array[0..i-1], that are greater than key,\n",
    "        # to one position ahead of their current position\n",
    "        while j >= 0 and array[j] > key:\n",
    "            array[j + 1] = array[j]\n",
    "            j -= 1\n",
    "        array[j + 1] = key\n",
    "\n",
    "arr = [6, 4, 5, 1, 2]\n",
    "insertion_sort(arr)\n",
    "print(arr)  \n"
   ]
  },
  {
   "cell_type": "code",
   "execution_count": null,
   "id": "4f5a53a8-8c48-4442-be23-a7c58cac83d7",
   "metadata": {},
   "outputs": [],
   "source": []
  }
 ],
 "metadata": {
  "kernelspec": {
   "display_name": "Python 3 (ipykernel)",
   "language": "python",
   "name": "python3"
  },
  "language_info": {
   "codemirror_mode": {
    "name": "ipython",
    "version": 3
   },
   "file_extension": ".py",
   "mimetype": "text/x-python",
   "name": "python",
   "nbconvert_exporter": "python",
   "pygments_lexer": "ipython3",
   "version": "3.12.5"
  }
 },
 "nbformat": 4,
 "nbformat_minor": 5
}
