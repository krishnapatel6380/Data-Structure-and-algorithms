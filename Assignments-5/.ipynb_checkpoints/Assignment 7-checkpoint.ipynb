{
 "cells": [
  {
   "cell_type": "markdown",
   "id": "876bde28",
   "metadata": {},
   "source": [
    "Consider the graph presented below. Write a function to print the adjacency list for the graph."
   ]
  },
  {
   "cell_type": "code",
   "execution_count": null,
   "id": "b1a4ffff",
   "metadata": {},
   "outputs": [],
   "source": [
    "graph = {\n",
    "    \"A\": [\"B\", \"C\"],\n",
    "    \"B\": [\"A\", \"D\"],\n",
    "    \"C\": [\"A\"],\n",
    "    \"D\": [\"B\"]\n",
    "}"
   ]
  }
 ],
 "metadata": {
  "kernelspec": {
   "display_name": "Python 3 (ipykernel)",
   "language": "python",
   "name": "python3"
  },
  "language_info": {
   "codemirror_mode": {
    "name": "ipython",
    "version": 3
   },
   "file_extension": ".py",
   "mimetype": "text/x-python",
   "name": "python",
   "nbconvert_exporter": "python",
   "pygments_lexer": "ipython3",
   "version": "3.11.4"
  }
 },
 "nbformat": 4,
 "nbformat_minor": 5
}
