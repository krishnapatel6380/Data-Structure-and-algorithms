{
 "cells": [
  {
   "cell_type": "markdown",
   "id": "876bde28",
   "metadata": {},
   "source": [
    "Consider the graph presented below. Write a function to print the adjacency list for the graph."
   ]
  },
  {
   "cell_type": "code",
   "execution_count": null,
   "id": "b1a4ffff",
   "metadata": {},
   "outputs": [],
   "source": [
    "graph = {\n",
    "    \"A\": [\"B\", \"C\"],\n",
    "    \"B\": [\"A\", \"D\"],\n",
    "    \"C\": [\"A\"],\n",
    "    \"D\": [\"B\"]\n",
    "}"
   ]
  },
  {
   "cell_type": "code",
   "execution_count": 1,
   "id": "f383f1f1-4efb-4a9f-b3e0-2943d583aab5",
   "metadata": {},
   "outputs": [
    {
     "name": "stdout",
     "output_type": "stream",
     "text": [
      "A -> B C\n",
      "B -> A D\n",
      "C -> A\n",
      "D -> B\n"
     ]
    }
   ],
   "source": [
    "def print_adjacency_list(graph):\n",
    "\n",
    "  for node, neighbors in graph.items():\n",
    "    print(f\"{node} -> {' '.join(neighbors)}\")\n",
    "\n",
    "graph = {\n",
    "    \"A\": [\"B\", \"C\"],\n",
    "    \"B\": [\"A\", \"D\"],\n",
    "    \"C\": [\"A\"],\n",
    "    \"D\": [\"B\"]\n",
    "}\n",
    "\n",
    "print_adjacency_list(graph)"
   ]
  },
  {
   "cell_type": "code",
   "execution_count": null,
   "id": "0dd8db46-89f2-477c-842e-e746a91090dd",
   "metadata": {},
   "outputs": [],
   "source": []
  }
 ],
 "metadata": {
  "kernelspec": {
   "display_name": "Python 3 (ipykernel)",
   "language": "python",
   "name": "python3"
  },
  "language_info": {
   "codemirror_mode": {
    "name": "ipython",
    "version": 3
   },
   "file_extension": ".py",
   "mimetype": "text/x-python",
   "name": "python",
   "nbconvert_exporter": "python",
   "pygments_lexer": "ipython3",
   "version": "3.12.5"
  }
 },
 "nbformat": 4,
 "nbformat_minor": 5
}
