{
 "cells": [
  {
   "cell_type": "markdown",
   "id": "9f34e4c7-c042-4c5e-bfd9-fcff96317f52",
   "metadata": {},
   "source": [
    "How it Works:\n",
    "\n",
    "Input Key: We have an input key, which can be any data type (e.g., a string, an integer).\n",
    "Modulus Operation: We apply the modulus operation ()% to the key using the size of the hash table m. This operation gives us the remainder when the key is divided by m.\n",
    "Hash Value: The remainder is the hash value, which is an integer between 0 and m-1.\n",
    "\n",
    "Demonstration:\n",
    "\n",
    "Let's consider a hash table of size 10 (i.e., m = 10). We'll hash the following keys: \"apple\", \"banana\", \"cherry\", \"date\", and \"elderberry\"."
   ]
  },
  {
   "cell_type": "code",
   "execution_count": 2,
   "id": "3a2fe0fb-d9e6-4904-a024-5a26ed44b639",
   "metadata": {},
   "outputs": [
    {
     "name": "stdout",
     "output_type": "stream",
     "text": [
      "Hash value of apple: 5\n",
      "Hash value of banana: 4\n",
      "Hash value of cherry: 9\n",
      "Hash value of date: 7\n",
      "Hash value of elderberry: 8\n"
     ]
    }
   ],
   "source": [
    "keys = [\"apple\", \"banana\", \"cherry\", \"date\", \"elderberry\"]\n",
    "m = 10\n",
    "def division_hash(key, m):\n",
    " \n",
    "  return key % m\n",
    "    \n",
    "for key in keys:\n",
    "  hash_value = division_hash(hash(key), m)  # Using Python's built-in hash function\n",
    "  print(f\"Hash value of {key}: {hash_value}\")"
   ]
  },
  {
   "cell_type": "code",
   "execution_count": null,
   "id": "78e36f1b-584e-416d-aa0a-99b25e5649b1",
   "metadata": {},
   "outputs": [],
   "source": []
  }
 ],
 "metadata": {
  "kernelspec": {
   "display_name": "Python 3 (ipykernel)",
   "language": "python",
   "name": "python3"
  },
  "language_info": {
   "codemirror_mode": {
    "name": "ipython",
    "version": 3
   },
   "file_extension": ".py",
   "mimetype": "text/x-python",
   "name": "python",
   "nbconvert_exporter": "python",
   "pygments_lexer": "ipython3",
   "version": "3.12.5"
  }
 },
 "nbformat": 4,
 "nbformat_minor": 5
}
