{
 "cells": [
  {
   "cell_type": "markdown",
   "id": "1d63bc12",
   "metadata": {},
   "source": [
    "#### 1. Determine the time complexity of the following algorithm and provide a detailed explanation of your analysis"
   ]
  },
  {
   "cell_type": "code",
   "execution_count": null,
   "id": "d286c5b5",
   "metadata": {},
   "outputs": [],
   "source": [
    "def sum_elements(lst):\n",
    "    total = 0\n",
    "    for num in lst:\n",
    "        total += num\n",
    "    return total\n",
    "\n",
    "# Example: You can use \"sum_elements\" to sum the elements of lst below:\n",
    "lst = [1, 2, 3, 4, 5]\n",
    "print(sum_elements(lst))  # Output: 15"
   ]
  },
  {
   "cell_type": "markdown",
   "id": "4b7b83ab-ddac-4200-ac44-766bd374a4d7",
   "metadata": {},
   "source": [
    "#### Answer\n",
    "The function's time complexity is O(n) because the function iterates over each element in the list exactly once, performing a constant-time addition operation for each element. Therefore, as the size of lst grows, the running time of sum_elements grows linearly with 𝑛, the number of elements in list."
   ]
  },
  {
   "cell_type": "markdown",
   "id": "da009449",
   "metadata": {},
   "source": [
    "#### 2. Determine the time complexity of the following algorithm and provide a detailed explanation of your analysis"
   ]
  },
  {
   "cell_type": "code",
   "execution_count": 1,
   "id": "76ffcc96",
   "metadata": {},
   "outputs": [
    {
     "name": "stdout",
     "output_type": "stream",
     "text": [
      "[1, 2, 4, 5, 8]\n"
     ]
    }
   ],
   "source": [
    "def bubble_sort(lst):\n",
    "    n = len(lst)\n",
    "    for i in range(n):\n",
    "        for j in range(0, n-i-1):\n",
    "            if lst[j] > lst[j+1]:\n",
    "                lst[j], lst[j+1] = lst[j+1], lst[j]\n",
    "    return lst\n",
    "\n",
    "# Example: You can use \"bubble_sort\" to sort the elements of a list:\n",
    "lst = [5, 1, 4, 2, 8]\n",
    "print(bubble_sort(lst))  # Output: [1, 2, 4, 5, 8]"
   ]
  },
  {
   "cell_type": "markdown",
   "id": "8bd7a63c-f3a1-4325-9d77-10e4ee5a58a8",
   "metadata": {},
   "source": [
    "#### Answer\n",
    "In this case, bubble_sort performs \n",
    "𝑂(𝑛)*(𝑛) comparisons and swaps because it compares each pair of elements multiple times to move the largest unsorted element to its correct position in each pass."
   ]
  },
  {
   "cell_type": "code",
   "execution_count": null,
   "id": "f6be058e-eddc-4968-b1da-8d6909440fee",
   "metadata": {},
   "outputs": [],
   "source": []
  }
 ],
 "metadata": {
  "kernelspec": {
   "display_name": "Python 3 (ipykernel)",
   "language": "python",
   "name": "python3"
  },
  "language_info": {
   "codemirror_mode": {
    "name": "ipython",
    "version": 3
   },
   "file_extension": ".py",
   "mimetype": "text/x-python",
   "name": "python",
   "nbconvert_exporter": "python",
   "pygments_lexer": "ipython3",
   "version": "3.12.5"
  }
 },
 "nbformat": 4,
 "nbformat_minor": 5
}
