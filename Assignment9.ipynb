{
 "cells": [
  {
   "cell_type": "markdown",
   "id": "a62c5393",
   "metadata": {},
   "source": [
    "#### Question 2\n",
    "\n",
    "Given the information you have received in the course about the Merge sort algorithm, implement a function that uses it. The function needs only to accept the array to be sorted as parameter. The function returns the sorted array. The original array is left untouched.\n",
    "\n",
    "Given an array like: [6, 8, 5, 1, 2], the sorted array would be: [1, 2, 5, 6, 8]"
   ]
  },
  {
   "cell_type": "code",
   "execution_count": 1,
   "id": "79f83b7b",
   "metadata": {},
   "outputs": [
    {
     "name": "stdout",
     "output_type": "stream",
     "text": [
      "[1, 2, 5, 6, 8]\n",
      "[6, 8, 5, 1, 2]\n"
     ]
    }
   ],
   "source": [
    "def merge_sort(array):\n",
    "   \n",
    "    if len(array) <= 1:\n",
    "        return array  # Base case: a single element is already sorted\n",
    "\n",
    "    # Split the array into two halves\n",
    "    mid = len(array) // 2\n",
    "    left_half = merge_sort(array[:mid])  # Recursively sort the left half\n",
    "    right_half = merge_sort(array[mid:])  # Recursively sort the right half\n",
    "\n",
    "    # Merge the two sorted halves\n",
    "    return merge(left_half, right_half)\n",
    "\n",
    "def merge(left, right):\n",
    "\n",
    "    sorted_array = []\n",
    "    i = j = 0\n",
    "\n",
    "    # Compare elements from both arrays and choose the smallest\n",
    "    while i < len(left) and j < len(right):\n",
    "        if left[i] < right[j]:\n",
    "            sorted_array.append(left[i])\n",
    "            i += 1\n",
    "        else:\n",
    "            sorted_array.append(right[j])\n",
    "            j += 1\n",
    "\n",
    "    # Add any remaining elements from left or right\n",
    "    sorted_array.extend(left[i:])\n",
    "    sorted_array.extend(right[j:])\n",
    "\n",
    "    return sorted_array\n",
    "\n",
    "arr = [6, 8, 5, 1, 2]\n",
    "sorted_arr = merge_sort(arr)\n",
    "print(sorted_arr)  # Output: [1, 2, 5, 6, 8]\n",
    "print(arr)         # Original array remains unchanged: [6, 8, 5, 1, 2]\n",
    "\n"
   ]
  },
  {
   "cell_type": "code",
   "execution_count": null,
   "id": "31272fbb-b949-4cfc-b4a1-24225cb7bc55",
   "metadata": {},
   "outputs": [],
   "source": []
  }
 ],
 "metadata": {
  "kernelspec": {
   "display_name": "Python 3 (ipykernel)",
   "language": "python",
   "name": "python3"
  },
  "language_info": {
   "codemirror_mode": {
    "name": "ipython",
    "version": 3
   },
   "file_extension": ".py",
   "mimetype": "text/x-python",
   "name": "python",
   "nbconvert_exporter": "python",
   "pygments_lexer": "ipython3",
   "version": "3.12.5"
  }
 },
 "nbformat": 4,
 "nbformat_minor": 5
}
